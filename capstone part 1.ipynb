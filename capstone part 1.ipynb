{
 "cells": [
  {
   "cell_type": "markdown",
   "metadata": {
    "collapsed": true
   },
   "source": [
    "# Capstone Project\n",
    "## The Battle of the Neighborhoods\n",
    "---"
   ]
  },
  {
   "cell_type": "markdown",
   "metadata": {},
   "source": [
    "### Table of Contents\n",
    "* [Introduction/Business Problem](#introduction)\n",
    "* [Data](#data)"
   ]
  },
  {
   "cell_type": "markdown",
   "metadata": {},
   "source": [
    "## Introduction/Business Problem <a name=\"introduction\"></a>"
   ]
  },
  {
   "cell_type": "markdown",
   "metadata": {},
   "source": [
    "In this capstone project, I will try to predict the best neighborhood to open a fitness studio (specifically, a pilates studio) in Toronto, Canada. I will use the Toronto neighborhoods dataset from the previous lessons. I will decide which neighborhood to place the fitness studio in based on the proximity of other health-centric venues."
   ]
  },
  {
   "cell_type": "markdown",
   "metadata": {},
   "source": [
    "### Problem"
   ]
  },
  {
   "cell_type": "markdown",
   "metadata": {},
   "source": [
    "We need to identify neighborhoods of Toronto that already offer other fitness/health focused venues (other types of gyms, health restaurants such as salad, smoothies, juice, vegetarian) **but** have minimal pilates studios. This will maximize value of the pilates studio while already being in an area that caters to health-focused clientele."
   ]
  },
  {
   "cell_type": "markdown",
   "metadata": {},
   "source": [
    "### Background"
   ]
  },
  {
   "cell_type": "markdown",
   "metadata": {},
   "source": [
    "I'll use the skills learned throughout this data science course and during the capstone project to appropriately recommend a suitable location. Neighborhoods will be as previously defined in the last exercises"
   ]
  },
  {
   "cell_type": "markdown",
   "metadata": {},
   "source": [
    "## Data <a name=\"data\"></a>"
   ]
  },
  {
   "cell_type": "markdown",
   "metadata": {},
   "source": [
    "Determining where to place the pilates studio depends on the following factors:\n",
    "* the number of other gyms in the neighborhood\n",
    "* the number of pilates studio in the neighborhood (aim to minimize)\n",
    "* the number of health-conscious restaurants in the neighborhood (aim to maximize)\n",
    "\n",
    "First, I will find the number of total gyms in the neighborhood and the total number of pilates gyms in the neighborhood. Then I will calculate what percentage of gyms are NOT pilates gyms, aiming to maximize the %.\n",
    "Next, I will find the number of health-conscious restaurants and venues in the neighborhood, based on specific venue categories within Foursquare (smoothie shop, juice bar, salad place, sandwich place, soup place, vegetarian/vegan restaurant, gluten-free restaurant, health food store, farmers market, organic grocery)\n",
    "Finally, I will assign a weight to total number of gyms, total percent not pilates gyms, and total number of health-related venues to determine the optimal neighborhood for the new pilates studio to be located."
   ]
  },
  {
   "cell_type": "code",
   "execution_count": null,
   "metadata": {},
   "outputs": [],
   "source": []
  }
 ],
 "metadata": {
  "kernelspec": {
   "display_name": "Python 3.6",
   "language": "python",
   "name": "python3"
  },
  "language_info": {
   "codemirror_mode": {
    "name": "ipython",
    "version": 3
   },
   "file_extension": ".py",
   "mimetype": "text/x-python",
   "name": "python",
   "nbconvert_exporter": "python",
   "pygments_lexer": "ipython3",
   "version": "3.6.8"
  }
 },
 "nbformat": 4,
 "nbformat_minor": 1
}
